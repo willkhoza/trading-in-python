{
 "cells": [
  {
   "cell_type": "code",
   "execution_count": 8,
   "metadata": {},
   "outputs": [],
   "source": [
    "import pandas as pd"
   ]
  },
  {
   "cell_type": "code",
   "execution_count": 9,
   "metadata": {},
   "outputs": [],
   "source": [
    "import pandas_datareader as pdr"
   ]
  },
  {
   "cell_type": "code",
   "execution_count": 10,
   "metadata": {},
   "outputs": [],
   "source": [
    "import datetime"
   ]
  },
  {
   "cell_type": "code",
   "execution_count": 11,
   "metadata": {},
   "outputs": [],
   "source": [
    "aapl=pdr.get_data_yahoo('AAPL',start=datetime.datetime(2008,1,1), end=datetime.datetime(2012,1,1))"
   ]
  },
  {
   "cell_type": "code",
   "execution_count": 12,
   "metadata": {},
   "outputs": [
    {
     "data": {
      "text/html": [
       "<div>\n",
       "<style scoped>\n",
       "    .dataframe tbody tr th:only-of-type {\n",
       "        vertical-align: middle;\n",
       "    }\n",
       "\n",
       "    .dataframe tbody tr th {\n",
       "        vertical-align: top;\n",
       "    }\n",
       "\n",
       "    .dataframe thead th {\n",
       "        text-align: right;\n",
       "    }\n",
       "</style>\n",
       "<table border=\"1\" class=\"dataframe\">\n",
       "  <thead>\n",
       "    <tr style=\"text-align: right;\">\n",
       "      <th></th>\n",
       "      <th>High</th>\n",
       "      <th>Low</th>\n",
       "      <th>Open</th>\n",
       "      <th>Close</th>\n",
       "      <th>Volume</th>\n",
       "      <th>Adj Close</th>\n",
       "    </tr>\n",
       "  </thead>\n",
       "  <tbody>\n",
       "    <tr>\n",
       "      <th>count</th>\n",
       "      <td>1009.000000</td>\n",
       "      <td>1009.000000</td>\n",
       "      <td>1009.000000</td>\n",
       "      <td>1009.000000</td>\n",
       "      <td>1.009000e+03</td>\n",
       "      <td>1009.000000</td>\n",
       "    </tr>\n",
       "    <tr>\n",
       "      <th>mean</th>\n",
       "      <td>32.966387</td>\n",
       "      <td>32.165195</td>\n",
       "      <td>32.593259</td>\n",
       "      <td>32.582081</td>\n",
       "      <td>1.745092e+08</td>\n",
       "      <td>21.642485</td>\n",
       "    </tr>\n",
       "    <tr>\n",
       "      <th>std</th>\n",
       "      <td>14.036380</td>\n",
       "      <td>13.917965</td>\n",
       "      <td>13.986114</td>\n",
       "      <td>13.982855</td>\n",
       "      <td>9.873808e+07</td>\n",
       "      <td>9.288042</td>\n",
       "    </tr>\n",
       "    <tr>\n",
       "      <th>min</th>\n",
       "      <td>11.714286</td>\n",
       "      <td>11.171429</td>\n",
       "      <td>11.341429</td>\n",
       "      <td>11.171429</td>\n",
       "      <td>3.937360e+07</td>\n",
       "      <td>7.420563</td>\n",
       "    </tr>\n",
       "    <tr>\n",
       "      <th>25%</th>\n",
       "      <td>20.815714</td>\n",
       "      <td>20.257143</td>\n",
       "      <td>20.544285</td>\n",
       "      <td>20.534286</td>\n",
       "      <td>1.066583e+08</td>\n",
       "      <td>13.639798</td>\n",
       "    </tr>\n",
       "    <tr>\n",
       "      <th>50%</th>\n",
       "      <td>29.230000</td>\n",
       "      <td>28.542856</td>\n",
       "      <td>28.905714</td>\n",
       "      <td>28.871429</td>\n",
       "      <td>1.483909e+08</td>\n",
       "      <td>19.177704</td>\n",
       "    </tr>\n",
       "    <tr>\n",
       "      <th>75%</th>\n",
       "      <td>46.542858</td>\n",
       "      <td>45.931427</td>\n",
       "      <td>46.428570</td>\n",
       "      <td>46.382858</td>\n",
       "      <td>2.126635e+08</td>\n",
       "      <td>30.809586</td>\n",
       "    </tr>\n",
       "    <tr>\n",
       "      <th>max</th>\n",
       "      <td>60.957142</td>\n",
       "      <td>59.427143</td>\n",
       "      <td>60.251427</td>\n",
       "      <td>60.320000</td>\n",
       "      <td>8.432424e+08</td>\n",
       "      <td>40.067249</td>\n",
       "    </tr>\n",
       "  </tbody>\n",
       "</table>\n",
       "</div>"
      ],
      "text/plain": [
       "              High          Low         Open        Close        Volume  \\\n",
       "count  1009.000000  1009.000000  1009.000000  1009.000000  1.009000e+03   \n",
       "mean     32.966387    32.165195    32.593259    32.582081  1.745092e+08   \n",
       "std      14.036380    13.917965    13.986114    13.982855  9.873808e+07   \n",
       "min      11.714286    11.171429    11.341429    11.171429  3.937360e+07   \n",
       "25%      20.815714    20.257143    20.544285    20.534286  1.066583e+08   \n",
       "50%      29.230000    28.542856    28.905714    28.871429  1.483909e+08   \n",
       "75%      46.542858    45.931427    46.428570    46.382858  2.126635e+08   \n",
       "max      60.957142    59.427143    60.251427    60.320000  8.432424e+08   \n",
       "\n",
       "         Adj Close  \n",
       "count  1009.000000  \n",
       "mean     21.642485  \n",
       "std       9.288042  \n",
       "min       7.420563  \n",
       "25%      13.639798  \n",
       "50%      19.177704  \n",
       "75%      30.809586  \n",
       "max      40.067249  "
      ]
     },
     "execution_count": 12,
     "metadata": {},
     "output_type": "execute_result"
    }
   ],
   "source": [
    "aapl.describe()"
   ]
  },
  {
   "cell_type": "code",
   "execution_count": 13,
   "metadata": {},
   "outputs": [],
   "source": [
    "aapl.to_csv('aapl_02_04.csv')"
   ]
  },
  {
   "cell_type": "code",
   "execution_count": 14,
   "metadata": {},
   "outputs": [],
   "source": [
    "download_aapl=\"02_04CSV.csv\""
   ]
  },
  {
   "cell_type": "code",
   "execution_count": 16,
   "metadata": {},
   "outputs": [],
   "source": [
    "aapl['Change']=aapl.Open - aapl.Close"
   ]
  },
  {
   "cell_type": "code",
   "execution_count": 17,
   "metadata": {},
   "outputs": [],
   "source": [
    "aapl['Pct_Chg']=aapl.Change/aapl.Open"
   ]
  },
  {
   "cell_type": "code",
   "execution_count": 18,
   "metadata": {},
   "outputs": [],
   "source": [
    "import matplotlib.pyplot as plt"
   ]
  },
  {
   "cell_type": "code",
   "execution_count": 19,
   "metadata": {},
   "outputs": [
    {
     "data": {
      "text/plain": [
       "<matplotlib.axes._subplots.AxesSubplot at 0x1ff413292b0>"
      ]
     },
     "execution_count": 19,
     "metadata": {},
     "output_type": "execute_result"
    },
    {
     "data": {
      "image/png": "[encoded data removed]",
      "text/plain": [
       "<Figure size 432x288 with 1 Axes>"
      ]
     },
     "metadata": {
      "needs_background": "light"
     },
     "output_type": "display_data"
    }
   ],
   "source": [
    "aapl['Pct_Chg'].plot(grid=True)"
   ]
  },
  {
   "cell_type": "code",
   "execution_count": 20,
   "metadata": {},
   "outputs": [],
   "source": [
    "plt.show()"
   ]
  },
  {
   "cell_type": "code",
   "execution_count": null,
   "metadata": {},
   "outputs": [],
   "source": []
  }
 ],
 "metadata": {
  "kernelspec": {
   "display_name": "Python 3",
   "language": "python",
   "name": "python3"
  },
  "language_info": {
   "codemirror_mode": {
    "name": "ipython",
    "version": 3
   },
   "file_extension": ".py",
   "mimetype": "text/x-python",
   "name": "python",
   "nbconvert_exporter": "python",
   "pygments_lexer": "ipython3",
   "version": "3.7.3"
  }
 },
 "nbformat": 4,
 "nbformat_minor": 2
}
